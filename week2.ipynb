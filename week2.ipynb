{
 "cells": [
  {
   "cell_type": "markdown",
   "id": "looking-trunk",
   "metadata": {},
   "source": [
    "# Week 2\n",
    "\n",
    "For this week the intention is to estimate the background of a sequence.\n",
    "\n",
    "The task are the following:\n",
    "* Task 1: Estimate the background with a non-adaptative model and evaluate the results\n",
    "* Task 2: Now apply an adaptative model to evaluate the results\n",
    "* Task 3: Compare our results with state of the art methods\n",
    "* Task 4: Consider now colour into the background estimation"
   ]
  },
  {
   "cell_type": "code",
   "execution_count": null,
   "id": "productive-spyware",
   "metadata": {},
   "outputs": [],
   "source": [
    "%load_ext autoreload\n",
    "%autoreload 2"
   ]
  },
  {
   "cell_type": "markdown",
   "id": "sound-juice",
   "metadata": {},
   "source": [
    "## Imports"
   ]
  },
  {
   "cell_type": "code",
   "execution_count": 1,
   "id": "sticky-nepal",
   "metadata": {},
   "outputs": [],
   "source": [
    "import cv2\n",
    "import numpy as np\n",
    "import matplotlib.pyplot as plt\n",
    "import matplotlib.animation as animation\n",
    "\n",
    "from pathlib import Path"
   ]
  },
  {
   "cell_type": "code",
   "execution_count": 3,
   "id": "incoming-matter",
   "metadata": {},
   "outputs": [],
   "source": [
    "from src.utils.annotation_reader import AnnotationReader"
   ]
  },
  {
   "cell_type": "markdown",
   "id": "composite-madness",
   "metadata": {},
   "source": [
    "## Data Location"
   ]
  },
  {
   "cell_type": "code",
   "execution_count": 2,
   "id": "adjacent-token",
   "metadata": {},
   "outputs": [],
   "source": [
    "DATA_ROOT = Path('data')\n",
    "FULL_ANNOTATION_PATH = DATA_ROOT / 'ai_challenge_s03_c010-full_annotation.xml'\n",
    "AICITY_DATA_ROOT = DATA_ROOT / Path('AICity_data/train/S03/c010')\n",
    "FRAMES_LOCATION = DATA_ROOT / 'frames'\n",
    "RESULTS_ROOT = Path('results')\n",
    "VIDEO_PATH = AICITY_DATA_ROOT / 'vdo.avi'\n",
    "\n",
    "assert DATA_ROOT.exists()\n",
    "assert FULL_ANNOTATION_PATH.exists()\n",
    "assert AICITY_DATA_ROOT.exists()\n",
    "assert FRAMES_LOCATION.exists()\n",
    "assert RESULTS_ROOT.exists()"
   ]
  },
  {
   "cell_type": "markdown",
   "id": "reasonable-inflation",
   "metadata": {},
   "source": [
    "## Task 1"
   ]
  },
  {
   "cell_type": "markdown",
   "id": "lovely-pasta",
   "metadata": {},
   "source": [
    "For this task we will use the first 25% of frames for training and the rest for evaluation."
   ]
  },
  {
   "cell_type": "code",
   "execution_count": null,
   "id": "artificial-honolulu",
   "metadata": {},
   "outputs": [],
   "source": []
  },
  {
   "cell_type": "markdown",
   "id": "supposed-configuration",
   "metadata": {},
   "source": [
    "## Task 2"
   ]
  },
  {
   "cell_type": "markdown",
   "id": "subsequent-weekend",
   "metadata": {},
   "source": [
    "## Task 3"
   ]
  },
  {
   "cell_type": "markdown",
   "id": "beginning-monster",
   "metadata": {},
   "source": [
    "## Task 4"
   ]
  }
 ],
 "metadata": {
  "kernelspec": {
   "display_name": "Python 3",
   "language": "python",
   "name": "python3"
  },
  "language_info": {
   "codemirror_mode": {
    "name": "ipython",
    "version": 3
   },
   "file_extension": ".py",
   "mimetype": "text/x-python",
   "name": "python",
   "nbconvert_exporter": "python",
   "pygments_lexer": "ipython3",
   "version": "3.7.9"
  }
 },
 "nbformat": 4,
 "nbformat_minor": 5
}
